{
 "cells": [
  {
   "cell_type": "code",
   "execution_count": 3,
   "id": "f7548820",
   "metadata": {},
   "outputs": [
    {
     "name": "stdout",
     "output_type": "stream",
     "text": [
      "                                 OLS Regression Results                                \n",
      "=======================================================================================\n",
      "Dep. Variable:                    VOL   R-squared (uncentered):                   0.838\n",
      "Model:                            OLS   Adj. R-squared (uncentered):              0.830\n",
      "Method:                 Least Squares   F-statistic:                              98.40\n",
      "Date:                Wed, 30 Mar 2022   Prob (F-statistic):                    5.99e-09\n",
      "Time:                        18:52:45   Log-Likelihood:                         -322.24\n",
      "No. Observations:                  20   AIC:                                      646.5\n",
      "Df Residuals:                      19   BIC:                                      647.5\n",
      "Df Model:                           1                                                  \n",
      "Covariance Type:            nonrobust                                                  \n",
      "==============================================================================\n",
      "                 coef    std err          t      P>|t|      [0.025      0.975]\n",
      "------------------------------------------------------------------------------\n",
      "DATE           0.0454      0.005      9.920      0.000       0.036       0.055\n",
      "==============================================================================\n",
      "Omnibus:                        0.557   Durbin-Watson:                   0.458\n",
      "Prob(Omnibus):                  0.757   Jarque-Bera (JB):                0.597\n",
      "Skew:                           0.328   Prob(JB):                        0.742\n",
      "Kurtosis:                       2.466   Cond. No.                         1.00\n",
      "==============================================================================\n",
      "\n",
      "Notes:\n",
      "[1] R² is computed without centering (uncentered) since the model does not contain a constant.\n",
      "[2] Standard Errors assume that the covariance matrix of the errors is correctly specified.\n"
     ]
    }
   ],
   "source": [
    "import pandas as pd\n",
    "import numpy as np\n",
    "import datetime as dt\n",
    "import matplotlib\n",
    "import matplotlib.pyplot as plt\n",
    "\n",
    "%matplotlib inline\n",
    "\n",
    "import statsmodels.api as sm\n",
    "from statsmodels.tsa.statespace.sarimax import SARIMAX\n",
    "df = pd.read_csv('/opt/anaconda3/futuraplan.csv')\n",
    "#df.shape\n",
    "df['DATE'] = pd.to_datetime(df['DATE'])\n",
    "\n",
    "date = (df['DATE'] - dt.datetime(2017,1,1)).dt.total_seconds()\n",
    "guests = df['GUESTS']\n",
    "vol = df['VOL']\n",
    "check_av = df['AVCHECK']\n",
    "\n",
    "# Split data into train / test sets\n",
    "train_V = vol.iloc[:len(vol)-4]\n",
    "test_V = vol.iloc[len(vol)-4:] # set one year(12 months) for testing\n",
    "train_D = date.iloc[:len(date)-4]\n",
    "test_D = date.iloc[len(date)-4:] # set one year(12 months) for testing\n",
    "\n",
    "olsmod = sm.OLS(train_V,train_D)\n",
    "olsres = olsmod.fit()\n",
    "print(olsres.summary())"
   ]
  },
  {
   "cell_type": "code",
   "execution_count": 4,
   "id": "5a08dad6",
   "metadata": {
    "scrolled": true
   },
   "outputs": [
    {
     "name": "stdout",
     "output_type": "stream",
     "text": [
      "0     4.295049e+06\n",
      "1     4.416755e+06\n",
      "2     4.530609e+06\n",
      "3     4.652316e+06\n",
      "4     4.770096e+06\n",
      "5     4.891802e+06\n",
      "6     5.009582e+06\n",
      "7     5.131288e+06\n",
      "8     5.252994e+06\n",
      "9     5.370775e+06\n",
      "10    5.492481e+06\n",
      "11    5.610261e+06\n",
      "12    5.731967e+06\n",
      "13    5.853673e+06\n",
      "14    5.963601e+06\n",
      "15    6.085307e+06\n",
      "16    6.203088e+06\n",
      "17    6.324794e+06\n",
      "18    6.442574e+06\n",
      "19    6.564280e+06\n",
      "dtype: float64\n"
     ]
    }
   ],
   "source": [
    "\n",
    "pred = olsres.predict(train_D)\n",
    "print(pred)"
   ]
  },
  {
   "cell_type": "code",
   "execution_count": 5,
   "id": "141a31b6",
   "metadata": {
    "scrolled": true
   },
   "outputs": [
    {
     "name": "stdout",
     "output_type": "stream",
     "text": [
      "20    6.685986e+06\n",
      "21    6.803766e+06\n",
      "22    6.925472e+06\n",
      "23    7.043253e+06\n",
      "dtype: float64\n"
     ]
    }
   ],
   "source": [
    "\n",
    "newpred =  olsres.predict(test_D) # predict out of sample\n",
    "print(newpred)\n"
   ]
  },
  {
   "cell_type": "code",
   "execution_count": 100,
   "id": "a8e889b2",
   "metadata": {
    "scrolled": true
   },
   "outputs": [
    {
     "name": "stderr",
     "output_type": "stream",
     "text": [
      " This problem is unconstrained.\n"
     ]
    },
    {
     "name": "stdout",
     "output_type": "stream",
     "text": [
      "RUNNING THE L-BFGS-B CODE\n",
      "\n",
      "           * * *\n",
      "\n",
      "Machine precision = 2.220D-16\n",
      " N =            4     M =           10\n",
      "\n",
      "At X0         0 variables are exactly at the bounds\n",
      "\n",
      "At iterate    0    f=  1.50901D+01    |proj g|=  2.29921D-02\n",
      "\n",
      "At iterate    1    f=  1.50887D+01    |proj g|=  2.44935D-02\n",
      "\n",
      "At iterate    2    f=  1.50881D+01    |proj g|=  2.62735D-02\n",
      "\n",
      "At iterate    3    f=  1.50876D+01    |proj g|=  1.40005D-02\n",
      "\n",
      "At iterate    4    f=  1.50870D+01    |proj g|=  8.64345D-03\n",
      "\n",
      "At iterate    5    f=  1.50869D+01    |proj g|=  1.54481D-03\n",
      "\n",
      "At iterate    6    f=  1.50869D+01    |proj g|=  2.13433D-05\n",
      "\n",
      "At iterate    7    f=  1.50869D+01    |proj g|=  3.13882D-07\n",
      "\n",
      "           * * *\n",
      "\n",
      "Tit   = total number of iterations\n",
      "Tnf   = total number of function evaluations\n",
      "Tnint = total number of segments explored during Cauchy searches\n",
      "Skip  = number of BFGS updates skipped\n",
      "Nact  = number of active bounds at final generalized Cauchy point\n",
      "Projg = norm of the final projected gradient\n",
      "F     = final function value\n",
      "\n",
      "           * * *\n",
      "\n",
      "   N    Tit     Tnf  Tnint  Skip  Nact     Projg        F\n",
      "    4      7      9      1     0     0   3.139D-07   1.509D+01\n",
      "  F =   15.086940264449238     \n",
      "\n",
      "CONVERGENCE: NORM_OF_PROJECTED_GRADIENT_<=_PGTOL            \n"
     ]
    },
    {
     "data": {
      "image/png": "[encoded data removed]",
      "text/plain": [
       "<Figure size 432x288 with 1 Axes>"
      ]
     },
     "metadata": {
      "needs_background": "light"
     },
     "output_type": "display_data"
    }
   ],
   "source": [
    "model = SARIMAX(vol, order=(1, 1, 1), seasonal_order=(1, 0, 0, 12)).fit(disp=True)\n",
    "yhat = model.predict(len(train_V), len(test_V+train_V)-1,dynamic=False,extend_kwargs=None)\n",
    "\n",
    "fig, ax = plt.subplots()\n",
    "ax.plot(date, vol, 'r--', label=\"Data\")\n",
    "ax.plot(test_D, test_V, 'b-', label=\"True\")\n",
    "ax.plot(train_D, pred, 'r', label=\"OLS prediction\")\n",
    "ax.plot(test_D, newpred, 'r', label=\"OLS prediction\")\n",
    "ax.plot(test_D, yhat, 'o', label=\"SARIMAX\")\n",
    "ax.legend(loc=\"best\");"
   ]
  },
  {
   "cell_type": "code",
   "execution_count": null,
   "id": "3a8cd1bc",
   "metadata": {},
   "outputs": [],
   "source": []
  }
 ],
 "metadata": {
  "kernelspec": {
   "display_name": "Python 3 (ipykernel)",
   "language": "python",
   "name": "python3"
  },
  "language_info": {
   "codemirror_mode": {
    "name": "ipython",
    "version": 3
   },
   "file_extension": ".py",
   "mimetype": "text/x-python",
   "name": "python",
   "nbconvert_exporter": "python",
   "pygments_lexer": "ipython3",
   "version": "3.9.7"
  }
 },
 "nbformat": 4,
 "nbformat_minor": 5
}
